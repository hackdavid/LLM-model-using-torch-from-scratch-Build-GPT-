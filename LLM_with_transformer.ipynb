{
  "nbformat": 4,
  "nbformat_minor": 0,
  "metadata": {
    "colab": {
      "provenance": [],
      "toc_visible": true,
      "include_colab_link": true
    },
    "kernelspec": {
      "name": "python3",
      "display_name": "Python 3"
    },
    "language_info": {
      "name": "python"
    }
  },
  "cells": [
    {
      "cell_type": "markdown",
      "metadata": {
        "id": "view-in-github",
        "colab_type": "text"
      },
      "source": [
        "<a href=\"https://colab.research.google.com/github/hackdavid/LLM-model-using-torch-from-scratch-Build-GPT-/blob/main/LLM_with_transformer.ipynb\" target=\"_parent\"><img src=\"https://colab.research.google.com/assets/colab-badge.svg\" alt=\"Open In Colab\"/></a>"
      ]
    },
    {
      "cell_type": "code",
      "execution_count": 1,
      "metadata": {
        "id": "h0i2vpFUjlwo"
      },
      "outputs": [],
      "source": [
        "### Building a LLM model from scratch with bigram and transformer"
      ]
    },
    {
      "cell_type": "markdown",
      "source": [
        "**Building a GPT**"
      ],
      "metadata": {
        "id": "oRsvxYEhkI5-"
      }
    },
    {
      "cell_type": "code",
      "source": [
        "# get dataset\n",
        "!wget https://raw.githubusercontent.com/karpathy/char-rnn/master/data/tinyshakespeare/input.txt"
      ],
      "metadata": {
        "colab": {
          "base_uri": "https://localhost:8080/"
        },
        "id": "XYl1jfnZkGPf",
        "outputId": "f53abacd-ef6d-4a97-ddd1-6744abcf3894"
      },
      "execution_count": 2,
      "outputs": [
        {
          "output_type": "stream",
          "name": "stdout",
          "text": [
            "--2023-11-13 19:22:51--  https://raw.githubusercontent.com/karpathy/char-rnn/master/data/tinyshakespeare/input.txt\n",
            "Resolving raw.githubusercontent.com (raw.githubusercontent.com)... 185.199.108.133, 185.199.109.133, 185.199.111.133, ...\n",
            "Connecting to raw.githubusercontent.com (raw.githubusercontent.com)|185.199.108.133|:443... connected.\n",
            "HTTP request sent, awaiting response... 200 OK\n",
            "Length: 1115394 (1.1M) [text/plain]\n",
            "Saving to: ‘input.txt’\n",
            "\n",
            "input.txt           100%[===================>]   1.06M  5.91MB/s    in 0.2s    \n",
            "\n",
            "2023-11-13 19:22:51 (5.91 MB/s) - ‘input.txt’ saved [1115394/1115394]\n",
            "\n"
          ]
        }
      ]
    },
    {
      "cell_type": "code",
      "source": [
        "import torch\n",
        "import torch.nn as nn\n",
        "from torch.nn import functional as F"
      ],
      "metadata": {
        "id": "vP1udLVjn6dW"
      },
      "execution_count": 3,
      "outputs": []
    },
    {
      "cell_type": "code",
      "source": [
        "dataset_file_path = '/content/input.txt'"
      ],
      "metadata": {
        "id": "I46xZpN8qGyx"
      },
      "execution_count": 4,
      "outputs": []
    },
    {
      "cell_type": "code",
      "source": [],
      "metadata": {
        "id": "hpXBqbBukXBa"
      },
      "execution_count": 4,
      "outputs": []
    },
    {
      "cell_type": "code",
      "source": [
        "p = torch.randint(1003854 - 8, (4,))\n",
        "p"
      ],
      "metadata": {
        "colab": {
          "base_uri": "https://localhost:8080/"
        },
        "id": "C7exTDj5kuuU",
        "outputId": "734805eb-f9fe-48c1-f6b8-a106d34f4eb5"
      },
      "execution_count": 5,
      "outputs": [
        {
          "output_type": "execute_result",
          "data": {
            "text/plain": [
              "tensor([633090, 146108, 498870, 947033])"
            ]
          },
          "metadata": {},
          "execution_count": 5
        }
      ]
    },
    {
      "cell_type": "code",
      "source": [
        "class Dataset:\n",
        "  '''\n",
        "  this class contains each preproessing methods that will be used for\n",
        "  nornal transformation like encoding ,decoding ,load_dataset etc\n",
        "  and also hyperparamter also\n",
        "\n",
        "  '''\n",
        "  def __init__(self,file_path,batch_size=4,block_size=8):\n",
        "    self.dataset_file_path = file_path\n",
        "    self.vocab_size = None\n",
        "    self.batch_size = batch_size\n",
        "    self.block_size = block_size\n",
        "    self.encoder_mapping = {}\n",
        "    self.decoder_mapping = {}\n",
        "  def load_dataset(self):\n",
        "    with open(self.dataset_file_path,'r',encoding='utf-8') as f:\n",
        "      text = f.read()\n",
        "    # prepare the vocab_size\n",
        "    chars_vocab = list(set(text))\n",
        "    self.vocab_size = len(chars_vocab)\n",
        "    self.encoder_mapping = {ch:i for i,ch in enumerate(chars_vocab)}\n",
        "    self.decoder_mapping = {i:ch for i,ch in enumerate(chars_vocab)}\n",
        "    # now convert the text to tensor using torch library\n",
        "    data = self.encode(text)\n",
        "    data = torch.tensor(data, dtype=torch.long)\n",
        "    print(f'total vocab_size : {self.vocab_size} \\n vocab set : {chars_vocab}')\n",
        "    return data,self.vocab_size\n",
        "\n",
        "  def split_dataset(self,data=[],ratio=0.9):\n",
        "    # 90 % for traning and 10 % for valiation\n",
        "    n = int(ratio*len(data))\n",
        "    train = data[:n]\n",
        "    valid = data[n+1:]\n",
        "    return train,valid\n",
        "\n",
        "  def get_data_batch(self,data):\n",
        "    random_index = torch.randint(0,len(data)- self.block_size,(self.batch_size,))\n",
        "    x = torch.stack([data[i:i+self.block_size] for i in random_index])\n",
        "    y = torch.stack([data[i+1:i+self.block_size+1] for i in random_index])\n",
        "    return x,y\n",
        "  def encode(self,text):\n",
        "    return [self.encoder_mapping.get(ch) for ch in text]\n",
        "  def decode(self,text):\n",
        "    return [self.decoder_mapping.get(ch) for ch in text]\n",
        "\n",
        "\n",
        "\n"
      ],
      "metadata": {
        "id": "05voh6WlkwMK"
      },
      "execution_count": 6,
      "outputs": []
    },
    {
      "cell_type": "code",
      "source": [
        "dataset = Dataset(dataset_file_path)\n",
        "data,vocab_size = dataset.load_dataset()"
      ],
      "metadata": {
        "colab": {
          "base_uri": "https://localhost:8080/"
        },
        "id": "ZgDavT79qPVI",
        "outputId": "ebf74451-1f7f-4046-f6be-014cc3f74c1b"
      },
      "execution_count": 7,
      "outputs": [
        {
          "output_type": "stream",
          "name": "stdout",
          "text": [
            "total vocab_size : 65 \n",
            " vocab set : ['B', '.', 'c', 'l', 'E', 'G', '!', 'j', 't', 'f', 'L', '?', ';', 's', 'O', 'Z', 'Q', 'J', 'C', 'q', ' ', 'U', 'T', '$', 'x', 'g', 'd', ',', 'I', 'M', 'D', 'u', 'e', 'Y', '3', 'y', ':', 'v', 'W', 'H', 'w', '\\n', 'k', 'R', 'K', 'X', 'b', 'm', 'P', 'a', 'A', 'V', 'N', 'z', 'i', 'h', 'S', '-', 'n', \"'\", 'r', 'F', 'p', 'o', '&']\n"
          ]
        }
      ]
    },
    {
      "cell_type": "code",
      "source": [
        "train_data,valid = dataset.split_dataset(data)"
      ],
      "metadata": {
        "id": "IBmHi3jFqiI5"
      },
      "execution_count": 8,
      "outputs": []
    },
    {
      "cell_type": "code",
      "source": [
        "train_data"
      ],
      "metadata": {
        "colab": {
          "base_uri": "https://localhost:8080/"
        },
        "id": "Qjxp9fwcrbZM",
        "outputId": "e8d26c9b-a1d9-4886-8cf0-52d9f90d6dd6"
      },
      "execution_count": 9,
      "outputs": [
        {
          "output_type": "execute_result",
          "data": {
            "text/plain": [
              "tensor([61, 54, 60,  ..., 32, 60, 32])"
            ]
          },
          "metadata": {},
          "execution_count": 9
        }
      ]
    },
    {
      "cell_type": "code",
      "source": [
        "x_train,y_train = dataset.get_data_batch(train_data)\n",
        "x_train,y_train\n"
      ],
      "metadata": {
        "colab": {
          "base_uri": "https://localhost:8080/"
        },
        "id": "6YJxRdqFsh3P",
        "outputId": "64834d64-c153-433f-e83d-9b58f451b20a"
      },
      "execution_count": 10,
      "outputs": [
        {
          "output_type": "execute_result",
          "data": {
            "text/plain": [
              "(tensor([[26, 32, 60, 13, 20, 63,  9, 20],\n",
              "         [61, 43, 28, 50, 43, 20, 22, 39],\n",
              "         [43, 28, 50, 43, 20, 10, 50, 21],\n",
              "         [ 2,  3, 63,  2, 42, 27, 20,  8]]),\n",
              " tensor([[32, 60, 13, 20, 63,  9, 20, 54],\n",
              "         [43, 28, 50, 43, 20, 22, 39, 14],\n",
              "         [28, 50, 43, 20, 10, 50, 21, 43],\n",
              "         [ 3, 63,  2, 42, 27, 20,  8, 55]]))"
            ]
          },
          "metadata": {},
          "execution_count": 10
        }
      ]
    },
    {
      "cell_type": "code",
      "source": [
        "# just for visualization purpose otherwiase ignore this code\n",
        "for b in range(4): # batch dimension\n",
        "    for t in range(8): # time dimension\n",
        "        context = x_train[b, :t+1]\n",
        "        target = y_train[b,t]\n",
        "        print(f\"when input is {context.tolist()} the target: {target}\")"
      ],
      "metadata": {
        "colab": {
          "base_uri": "https://localhost:8080/"
        },
        "id": "n39KYw91xWSQ",
        "outputId": "3e650885-745c-48ad-ede8-c759db3b1060"
      },
      "execution_count": 11,
      "outputs": [
        {
          "output_type": "stream",
          "name": "stdout",
          "text": [
            "when input is [26] the target: 32\n",
            "when input is [26, 32] the target: 60\n",
            "when input is [26, 32, 60] the target: 13\n",
            "when input is [26, 32, 60, 13] the target: 20\n",
            "when input is [26, 32, 60, 13, 20] the target: 63\n",
            "when input is [26, 32, 60, 13, 20, 63] the target: 9\n",
            "when input is [26, 32, 60, 13, 20, 63, 9] the target: 20\n",
            "when input is [26, 32, 60, 13, 20, 63, 9, 20] the target: 54\n",
            "when input is [61] the target: 43\n",
            "when input is [61, 43] the target: 28\n",
            "when input is [61, 43, 28] the target: 50\n",
            "when input is [61, 43, 28, 50] the target: 43\n",
            "when input is [61, 43, 28, 50, 43] the target: 20\n",
            "when input is [61, 43, 28, 50, 43, 20] the target: 22\n",
            "when input is [61, 43, 28, 50, 43, 20, 22] the target: 39\n",
            "when input is [61, 43, 28, 50, 43, 20, 22, 39] the target: 14\n",
            "when input is [43] the target: 28\n",
            "when input is [43, 28] the target: 50\n",
            "when input is [43, 28, 50] the target: 43\n",
            "when input is [43, 28, 50, 43] the target: 20\n",
            "when input is [43, 28, 50, 43, 20] the target: 10\n",
            "when input is [43, 28, 50, 43, 20, 10] the target: 50\n",
            "when input is [43, 28, 50, 43, 20, 10, 50] the target: 21\n",
            "when input is [43, 28, 50, 43, 20, 10, 50, 21] the target: 43\n",
            "when input is [2] the target: 3\n",
            "when input is [2, 3] the target: 63\n",
            "when input is [2, 3, 63] the target: 2\n",
            "when input is [2, 3, 63, 2] the target: 42\n",
            "when input is [2, 3, 63, 2, 42] the target: 27\n",
            "when input is [2, 3, 63, 2, 42, 27] the target: 20\n",
            "when input is [2, 3, 63, 2, 42, 27, 20] the target: 8\n",
            "when input is [2, 3, 63, 2, 42, 27, 20, 8] the target: 55\n"
          ]
        }
      ]
    },
    {
      "cell_type": "code",
      "source": [
        "# till now our data_preprocessing is done"
      ],
      "metadata": {
        "id": "qmIENDRbzKaH"
      },
      "execution_count": 12,
      "outputs": []
    },
    {
      "cell_type": "markdown",
      "source": [
        "**Lets Build the bigrammodel so we can train your model with our data**"
      ],
      "metadata": {
        "id": "n0zgIiYu0sG1"
      }
    },
    {
      "cell_type": "code",
      "source": [
        "class BigramModel(nn.Module):\n",
        "  def __init__(self,vocab_size):\n",
        "    super().__init__()\n",
        "    self.vocab_size = vocab_size\n",
        "    # there is formula to calculate the embedibg table which is mention on torch.nn.embeddig documentation so please go through this to understand the maths\n",
        "    self.token_embedding_table = nn.Embedding(self.vocab_size,self.vocab_size)\n",
        "\n",
        "  def forward(self,x_train,y_train=None):\n",
        "    # shape of x_train = y_train = 4, 8\n",
        "    prediction = self.token_embedding_table(x_train)\n",
        "    # becuase at starting there may be not context so not previous information for first token\n",
        "    if y_train is None:\n",
        "      loss = None\n",
        "    else:\n",
        "      # prediction is a table having 3-dimention i.e (batch_size,block_size,vocab_size)\n",
        "      # but the y_train shape is 4,8 which is not same as prediction so we have to\n",
        "      # change the shape so we can calculate the loss using cross_entropy\n",
        "      # view method is used to change the shape having same data ,it takes paramter as dimentation\n",
        "      (d_batch_size,d_block_size,d_vocab_size) = prediction.shape\n",
        "      prediction = prediction.view(d_batch_size*d_block_size,d_vocab_size) # new dimention will be 32,65 in current example\n",
        "      y_train = y_train.view(d_batch_size*d_block_size)                     # new dimention will be 32 in current example\n",
        "      loss = F.cross_entropy(prediction,y_train)\n",
        "    return prediction,loss\n",
        "\n",
        "  def generate(self,token_size=100,input=None):\n",
        "    '''\n",
        "    this function will generate the new token based on learning\n",
        "    Note: first we will feed the random data at starting contest and generate the new token and concat to torch\n",
        "    '''\n",
        "    if input is None:\n",
        "      input = torch.zeros((1,1),dtype=torch.long)\n",
        "    for _ in range(token_size):\n",
        "      prediction,loss = self(input)\n",
        "      # focus only on the last time step\n",
        "      prediction = prediction[:, -1, :] # becomes (d_batch_size, d_vocab_size)\n",
        "      # apply softmax to get probabilities\n",
        "      probs = F.softmax(prediction, dim=-1) # (d_batch_size, d_vocab_size)\n",
        "      # sample from the distribution\n",
        "      next_prediction = torch.multinomial(probs, num_samples=1) # (d_batch_size, 1)\n",
        "      # append sampled index to the running sequence\n",
        "      input = torch.cat((input, next_prediction), dim=1) # (d_batch_size, d_block_size+1)\n",
        "    new_tokens = input[0]\n",
        "    return new_tokens\n",
        "\n",
        "\n",
        "\n",
        "\n"
      ],
      "metadata": {
        "id": "Ui-yrXDn05U5"
      },
      "execution_count": 13,
      "outputs": []
    },
    {
      "cell_type": "code",
      "source": [
        "model = BigramModel(vocab_size)"
      ],
      "metadata": {
        "id": "2aLykGaZ1qDg"
      },
      "execution_count": 14,
      "outputs": []
    },
    {
      "cell_type": "code",
      "source": [
        "prediction,loss = model(x_train,y_train)"
      ],
      "metadata": {
        "id": "JBXNwWbs1taN"
      },
      "execution_count": 15,
      "outputs": []
    },
    {
      "cell_type": "code",
      "source": [
        "# create a PyTorch optimizer\n",
        "optimizer = torch.optim.AdamW(model.parameters(), lr=1e-3)"
      ],
      "metadata": {
        "id": "Z682V1vz1wgO"
      },
      "execution_count": 16,
      "outputs": []
    },
    {
      "cell_type": "code",
      "source": [
        "train_data"
      ],
      "metadata": {
        "colab": {
          "base_uri": "https://localhost:8080/"
        },
        "id": "LEFCkGAFAMOZ",
        "outputId": "9145fb9f-2931-41fe-98cf-705ea169d934"
      },
      "execution_count": 17,
      "outputs": [
        {
          "output_type": "execute_result",
          "data": {
            "text/plain": [
              "tensor([61, 54, 60,  ..., 32, 60, 32])"
            ]
          },
          "metadata": {},
          "execution_count": 17
        }
      ]
    },
    {
      "cell_type": "code",
      "source": [
        "def train(epoch=1000):\n",
        "  for step in range(epoch):\n",
        "    x_train,y_train = dataset.get_data_batch(train_data)\n",
        "    prediction,loss = model(x_train,y_train)\n",
        "    optimizer.zero_grad(set_to_none=True)\n",
        "    loss.backward()\n",
        "    optimizer.step()\n",
        "    # print(f'Epoch - {step} , loss - {loss} ')\n",
        "  print(f'After Epoch - {epoch} , loss - {loss} ')"
      ],
      "metadata": {
        "id": "MKUR_mBw8Lh4"
      },
      "execution_count": 18,
      "outputs": []
    },
    {
      "cell_type": "code",
      "source": [
        "train(epoch=10000)"
      ],
      "metadata": {
        "colab": {
          "base_uri": "https://localhost:8080/"
        },
        "id": "t5iqpfV3-nt_",
        "outputId": "2c817579-c010-44d1-f05a-6628a41d425e"
      },
      "execution_count": 19,
      "outputs": [
        {
          "output_type": "stream",
          "name": "stdout",
          "text": [
            "After Epoch - 10000 , loss - 2.651421546936035 \n"
          ]
        }
      ]
    },
    {
      "cell_type": "code",
      "source": [
        "tokens = model.generate()"
      ],
      "metadata": {
        "id": "w2wrXTp3-p1w"
      },
      "execution_count": 20,
      "outputs": []
    },
    {
      "cell_type": "code",
      "source": [
        "tokens"
      ],
      "metadata": {
        "colab": {
          "base_uri": "https://localhost:8080/"
        },
        "id": "vahkdfKVFUIV",
        "outputId": "11ec1e14-d8f9-4fe1-aa92-22661cc6e1aa"
      },
      "execution_count": 21,
      "outputs": [
        {
          "output_type": "execute_result",
          "data": {
            "text/plain": [
              "tensor([ 0,  4,  4, 30, 54, 49, 60, 49, 26, 20,  0, 53, 33,  3, 20,  2, 32,  6,\n",
              "        41, 29, 54, 31, 58, 59,  3, 20, 55, 25, 20, 47, 49, 37, 54, 13, 13,  8,\n",
              "        55, 32,  3,  9, 63, 11, 41, 22, 34, 12, 20, 63, 31, 27, 20, 25, 32, 20,\n",
              "        62, 54, 63, 31,  8, 41, 41, 30, 49,  3, 36, 20, 58,  8, 55, 49,  8, 32,\n",
              "        49, 37, 32, 26, 20,  9,  9, 32, 60, 26, 12, 25,  3, 49, 47, 14, 36, 27,\n",
              "        20, 47, 49, 58, 20,  9, 20, 13,  8, 20, 55])"
            ]
          },
          "metadata": {},
          "execution_count": 21
        }
      ]
    },
    {
      "cell_type": "code",
      "source": [
        "# now decode this token\n",
        "print(dataset.decode(tokens.tolist()))"
      ],
      "metadata": {
        "colab": {
          "base_uri": "https://localhost:8080/"
        },
        "id": "5dlt5m12FVOr",
        "outputId": "9c813f42-4f09-45ce-adb8-7082149a7344"
      },
      "execution_count": 22,
      "outputs": [
        {
          "output_type": "stream",
          "name": "stdout",
          "text": [
            "['B', 'E', 'E', 'D', 'i', 'a', 'r', 'a', 'd', ' ', 'B', 'z', 'Y', 'l', ' ', 'c', 'e', '!', '\\n', 'M', 'i', 'u', 'n', \"'\", 'l', ' ', 'h', 'g', ' ', 'm', 'a', 'v', 'i', 's', 's', 't', 'h', 'e', 'l', 'f', 'o', '?', '\\n', 'T', '3', ';', ' ', 'o', 'u', ',', ' ', 'g', 'e', ' ', 'p', 'i', 'o', 'u', 't', '\\n', '\\n', 'D', 'a', 'l', ':', ' ', 'n', 't', 'h', 'a', 't', 'e', 'a', 'v', 'e', 'd', ' ', 'f', 'f', 'e', 'r', 'd', ';', 'g', 'l', 'a', 'm', 'O', ':', ',', ' ', 'm', 'a', 'n', ' ', 'f', ' ', 's', 't', ' ', 'h']\n"
          ]
        }
      ]
    },
    {
      "cell_type": "code",
      "source": [],
      "metadata": {
        "id": "t9gKKgstF0nT"
      },
      "execution_count": null,
      "outputs": []
    }
  ]
}